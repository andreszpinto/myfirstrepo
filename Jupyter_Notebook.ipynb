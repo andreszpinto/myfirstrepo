# My Jupyter Notebook on IBM Watson Studio

**André Souza Pinto**  
Electric Enginner

import math
print(math.pi)
